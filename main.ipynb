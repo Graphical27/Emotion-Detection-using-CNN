{
 "cells": [
  {
   "cell_type": "markdown",
   "metadata": {},
   "source": [
    "### Importing Lib's"
   ]
  },
  {
   "cell_type": "code",
   "execution_count": 3,
   "metadata": {},
   "outputs": [],
   "source": [
    "import torch\n",
    "from torch import nn\n",
    "from pathlib import Path\n",
    "from torch import nn\n",
    "import torchvision\n",
    "from torchvision import transforms,datasets\n",
    "from torchvision.transforms import ToTensor\n",
    "from torch.utils.data import DataLoader\n",
    "import random\n",
    "from PIL import Image\n",
    "import matplotlib.pyplot as plt"
   ]
  },
  {
   "cell_type": "markdown",
   "metadata": {},
   "source": [
    "### Creating Test and Train Data"
   ]
  },
  {
   "cell_type": "code",
   "execution_count": 4,
   "metadata": {},
   "outputs": [],
   "source": [
    "dir_path = Path(\"data\")\n",
    "dir_path\n",
    "train_dir = dir_path / \"train\"\n",
    "test_dir = dir_path / \"test\"\n",
    "\n",
    "random_images = list(dir_path.glob(\"*/*/*.jpg\"))"
   ]
  },
  {
   "cell_type": "markdown",
   "metadata": {},
   "source": [
    "### Opening any random image"
   ]
  },
  {
   "cell_type": "code",
   "execution_count": 5,
   "metadata": {},
   "outputs": [
    {
     "data": {
      "text/plain": [
       "(np.float64(-0.5), np.float64(47.5), np.float64(47.5), np.float64(-0.5))"
      ]
     },
     "execution_count": 5,
     "metadata": {},
     "output_type": "execute_result"
    },
    {
     "data": {
      "image/png": "[encoded data removed]",
      "text/plain": [
       "<Figure size 640x480 with 1 Axes>"
      ]
     },
     "metadata": {},
     "output_type": "display_data"
    }
   ],
   "source": [
    "img = random.choice(random_images)\n",
    "t = img.parent.stem\n",
    "img = Image.open(img)\n",
    "plt.imshow(img, cmap=\"gray\")\n",
    "plt.title(t)\n",
    "plt.axis(\"off\")"
   ]
  },
  {
   "cell_type": "markdown",
   "metadata": {},
   "source": [
    "### Creating tranformer "
   ]
  },
  {
   "cell_type": "code",
   "execution_count": 6,
   "metadata": {},
   "outputs": [],
   "source": [
    "data_transform = transforms.Compose([\n",
    "    transforms.TrivialAugmentWide(31),\n",
    "    transforms.ToTensor(),\n",
    "])"
   ]
  },
  {
   "cell_type": "markdown",
   "metadata": {},
   "source": [
    "### Checking the transform on a single image\n"
   ]
  },
  {
   "cell_type": "code",
   "execution_count": 7,
   "metadata": {},
   "outputs": [
    {
     "data": {
      "text/plain": [
       "(np.float64(-0.5), np.float64(47.5), np.float64(47.5), np.float64(-0.5))"
      ]
     },
     "execution_count": 7,
     "metadata": {},
     "output_type": "execute_result"
    },
    {
     "data": {
      "image/png": "[encoded data removed]",
      "text/plain": [
       "<Figure size 640x480 with 1 Axes>"
      ]
     },
     "metadata": {},
     "output_type": "display_data"
    }
   ],
   "source": [
    "tran_img = data_transform(img)\n",
    "\n",
    "plt.imshow(tran_img.permute(1,2,0),cmap=\"gray\")\n",
    "plt.axis(\"off\")"
   ]
  },
  {
   "cell_type": "markdown",
   "metadata": {},
   "source": [
    "### Creating datasets and dataloader"
   ]
  },
  {
   "cell_type": "code",
   "execution_count": 8,
   "metadata": {},
   "outputs": [
    {
     "data": {
      "text/plain": [
       "['angry', 'disgust', 'fear', 'happy', 'neutral', 'sad', 'surprise']"
      ]
     },
     "execution_count": 8,
     "metadata": {},
     "output_type": "execute_result"
    }
   ],
   "source": [
    "train_dataset = datasets.ImageFolder(root=train_dir,transform=data_transform)\n",
    "test_dataset = datasets.ImageFolder(root=test_dir,transform=data_transform)\n",
    "\n",
    "train_dataloader = DataLoader(dataset=train_dataset,batch_size=32,shuffle=True,num_workers=8)\n",
    "test_dataloader = DataLoader(dataset=test_dataset,batch_size=32,shuffle=False,num_workers=8)\n",
    "\n",
    "# train_dataloader,test_dataloader\n",
    "# len(train_dataset),len(test_dataset)\n",
    "train_dataset[0][0].shape,train_dataset.classes[train_dataset[0][1]]\n",
    "classes = train_dataset.classes\n",
    "classes"
   ]
  },
  {
   "cell_type": "markdown",
   "metadata": {},
   "source": [
    "### Creating model architect (TinyVGG)\n"
   ]
  },
  {
   "cell_type": "code",
   "execution_count": 9,
   "metadata": {},
   "outputs": [],
   "source": [
    "class TinyVGG(nn.Module):\n",
    "    def __init__(self,input_shape,hidden_units,output_shape):\n",
    "        super().__init__()\n",
    "        self.conv_block_1 = nn.Sequential(\n",
    "            nn.Conv2d(in_channels=input_shape,\n",
    "                      out_channels=hidden_units,\n",
    "                      kernel_size=3,\n",
    "                      stride=1,\n",
    "                      padding=0),\n",
    "            nn.ReLU(),\n",
    "            nn.Conv2d(in_channels=hidden_units,\n",
    "                      out_channels=hidden_units,\n",
    "                      kernel_size=3,\n",
    "                      stride=1,\n",
    "                      padding=0),\n",
    "            nn.ReLU(),\n",
    "            nn.MaxPool2d(kernel_size=2,\n",
    "                         stride=2)\n",
    "        )\n",
    "        self.conv_block_2 = nn.Sequential(\n",
    "            nn.Conv2d(in_channels=hidden_units,\n",
    "                      out_channels=hidden_units,\n",
    "                      kernel_size=3,\n",
    "                      stride=1,\n",
    "                      padding=0),\n",
    "            nn.ReLU(),\n",
    "            nn.Conv2d(in_channels=hidden_units,\n",
    "                      out_channels=hidden_units,\n",
    "                      kernel_size=3,\n",
    "                      stride=1,\n",
    "                      padding=0),\n",
    "            nn.ReLU(),\n",
    "            nn.MaxPool2d(kernel_size=2,\n",
    "                         stride=2)\n",
    "        )\n",
    "        self.classifier = nn.Sequential(\n",
    "            nn.Flatten(),\n",
    "            nn.Linear(in_features=hidden_units*9*9,out_features=output_shape)\n",
    "        )\n",
    "    def forward(self,x):\n",
    "        return self.classifier(self.conv_block_2(self.conv_block_1(x)))\n",
    "\n",
    "\n",
    "model = TinyVGG(input_shape=3,hidden_units=10,output_shape=len(classes))"
   ]
  },
  {
   "cell_type": "markdown",
   "metadata": {},
   "source": [
    "### creating training and testing loop"
   ]
  },
  {
   "cell_type": "code",
   "execution_count": 12,
   "metadata": {},
   "outputs": [],
   "source": [
    "from tqdm.auto import tqdm\n",
    "loss_fn = nn.CrossEntropyLoss()\n",
    "optimizer = torch.optim.Adam(params=model.parameters(),lr=1e-5)\n",
    "device = \"cuda\" if torch.cuda.is_available() else \"cpu\"\n",
    "\n",
    "def train_step(model, dataloader, loss_fn, optimizer, device):\n",
    "    model.train()\n",
    "    train_loss = 0\n",
    "    train_acc = 0\n",
    "    \n",
    "    for batch, (X, y) in enumerate(dataloader):\n",
    "        X, y = X.to(device), y.to(device)\n",
    "        \n",
    "        # Forward pass\n",
    "        outputs = model(X)\n",
    "        logits = outputs.logits  # ✅ Extract logits properly\n",
    "        \n",
    "        # Compute loss\n",
    "        loss = loss_fn(logits, y)\n",
    "        \n",
    "        # Backward pass\n",
    "        optimizer.zero_grad()\n",
    "        loss.backward()\n",
    "        optimizer.step()\n",
    "\n",
    "        # Track loss and accuracy\n",
    "        train_loss += loss.item()\n",
    "        acc = (logits.argmax(dim=1) == y).float().mean().item()  # ✅ Compute accuracy properly\n",
    "        train_acc += acc\n",
    "\n",
    "    return train_loss / len(dataloader), train_acc / len(dataloader)\n",
    "\n",
    "\n",
    "def test_step(model, dataloader, loss_fn, device):\n",
    "    model.eval()\n",
    "    test_loss = 0\n",
    "    test_acc = 0\n",
    "    with torch.inference_mode():\n",
    "        for batch,(X,y) in enumerate(dataloader):\n",
    "            X,y = X.to(device),y.to(device)\n",
    "            y_pred = model(X)\n",
    "            loss = loss_fn(y_pred,y)\n",
    "            test_loss += loss.item()\n",
    "            acc = (y_pred.argmax(1) == y).sum().item()/len(y_pred)\n",
    "            test_acc += acc\n",
    "    return test_loss/len(dataloader),test_acc/len(dataloader)\n",
    "\n",
    "def train(model,train_dataloader,test_dataloader,loss_fn,optimizer,epochs,device):\n",
    "    result = {\n",
    "        \"train_loss\":[],\n",
    "        \"train_acc\":[],\n",
    "        \"test_loss\":[],\n",
    "        \"test_acc\":[]\n",
    "    }\n",
    "    for epoch in tqdm(range(epochs)):\n",
    "        print(f\"Epoch {epoch+1}/{epochs}\")\n",
    "        train_loss,train_acc = train_step(model=model,\n",
    "                                          dataloader=train_dataloader,\n",
    "                                          loss_fn=loss_fn,\n",
    "                                          optimizer=optimizer,\n",
    "                                          device=device)\n",
    "        test_loss,test_acc = test_step(model=model,\n",
    "                                       dataloader=test_dataloader,\n",
    "                                       loss_fn=loss_fn,\n",
    "                                       device=device)\n",
    "        result[\"train_loss\"].append(train_loss)\n",
    "        result[\"train_acc\"].append(train_acc)\n",
    "        result[\"test_loss\"].append(test_loss)\n",
    "        result[\"test_acc\"].append(test_acc)\n",
    "        print(f\"Train loss: {train_loss:.5f} | Train acc: {train_acc:.2f} | Test loss: {test_loss:.5f} | Test acc: {test_acc:.2f}\")\n",
    "    return result\n",
    "\n",
    "# result = train(model=model,train_dataloader=train_dataloader,test_dataloader=test_dataloader,loss_fn=loss_fn,optimizer=optimizer,epochs=5,device=device)\n",
    "\n",
    "\n",
    "# result"
   ]
  },
  {
   "cell_type": "markdown",
   "metadata": {},
   "source": [
    "## Plotting Loss Curve"
   ]
  },
  {
   "cell_type": "code",
   "execution_count": 13,
   "metadata": {},
   "outputs": [],
   "source": [
    "def plot_loss_curves(results):\n",
    "    \"\"\"\n",
    "    Plots training curves of a results dictionary.\n",
    "    \n",
    "    Args:\n",
    "        results (dict): Dictionary containing lists of values, specifically:\n",
    "            - train_loss\n",
    "            - train_acc\n",
    "            - test_loss\n",
    "            - test_acc\n",
    "    \"\"\"\n",
    "    loss = results['train_loss']\n",
    "    test_loss = results['test_loss']\n",
    "\n",
    "    accuracy = results['train_acc']\n",
    "    test_accuracy = results['test_acc']\n",
    "\n",
    "    epochs = range(len(results['train_loss']))\n",
    "\n",
    "    plt.figure(figsize=(15, 7))\n",
    "\n",
    "    plt.subplot(1, 2, 1)\n",
    "    plt.plot(epochs, loss, label='Train Loss')\n",
    "    plt.plot(epochs, test_loss, label='Test Loss')\n",
    "    plt.title('Loss')\n",
    "    plt.xlabel('Epochs')\n",
    "    plt.legend()\n",
    "\n",
    "    plt.subplot(1, 2, 2)\n",
    "    plt.plot(epochs, accuracy, label='Train Accuracy')\n",
    "    plt.plot(epochs, test_accuracy, label='Test Accuracy')\n",
    "    plt.title('Accuracy')\n",
    "    plt.xlabel('Epochs')\n",
    "    plt.legend()\n",
    "\n",
    "# plot_loss_curves(result)"
   ]
  },
  {
   "cell_type": "markdown",
   "metadata": {},
   "source": [
    "### Fine Tunning the Google ViT-B-16 Model"
   ]
  },
  {
   "cell_type": "code",
   "execution_count": null,
   "metadata": {},
   "outputs": [
    {
     "name": "stderr",
     "output_type": "stream",
     "text": [
      "Some weights of ViTForImageClassification were not initialized from the model checkpoint at google/vit-base-patch16-224-in21k and are newly initialized: ['classifier.bias', 'classifier.weight']\n",
      "You should probably TRAIN this model on a down-stream task to be able to use it for predictions and inference.\n",
      "  0%|          | 0/5 [00:00<?, ?it/s]"
     ]
    },
    {
     "name": "stdout",
     "output_type": "stream",
     "text": [
      "1/5.........\n"
     ]
    }
   ],
   "source": [
    "import torch\n",
    "from torchvision import transforms, datasets\n",
    "from torch.utils.data import DataLoader\n",
    "from transformers import ViTForImageClassification\n",
    "from tqdm.auto import tqdm\n",
    "\n",
    "device = torch.device(\"cuda\" if torch.cuda.is_available() else \"cpu\")\n",
    "\n",
    "model_1 = ViTForImageClassification.from_pretrained(\"google/vit-base-patch16-224-in21k\", num_labels=len(classes))\n",
    "model_1.to(device)\n",
    "\n",
    "optimizer_1 = torch.optim.Adam(params=model_1.parameters(), lr=1e-5)\n",
    "\n",
    "# Freezing all the parameters of the model\n",
    "for param in model_1.parameters():\n",
    "    param.requires_grad = False\n",
    "\n",
    "# Unfreezing the classifier parameters of the model\n",
    "for param in model_1.classifier.parameters():\n",
    "    param.requires_grad = True\n",
    "\n",
    "data_transform_1 = transforms.Compose([\n",
    "    transforms.Resize((224, 224)),\n",
    "    transforms.TrivialAugmentWide(31),\n",
    "    transforms.ToTensor(),\n",
    "])\n",
    "\n",
    "train_dataset_1 = datasets.ImageFolder(root=train_dir, transform=data_transform_1)\n",
    "test_dataset_1 = datasets.ImageFolder(root=test_dir, transform=data_transform_1)\n",
    "train_dataloader_1 = DataLoader(dataset=train_dataset_1, batch_size=7, shuffle=True, num_workers=8, pin_memory=True)\n",
    "test_dataloader_1 = DataLoader(dataset=test_dataset_1, batch_size=7, shuffle=False, num_workers=8, pin_memory=True)\n",
    "\n",
    "train_loss = []\n",
    "train_acc = []\n",
    "test_loss = []\n",
    "test_acc = []\n",
    "EPOCHS = 5\n",
    "\n",
    "for epoch in tqdm(range(EPOCHS)):\n",
    "    print(f\"{epoch + 1}/{EPOCHS}.........\")\n",
    "    model_1.train()\n",
    "\n",
    "    train_loss_epoch = 0\n",
    "    train_acc_epoch = 0\n",
    "    test_loss_epoch = 0\n",
    "    test_acc_epoch = 0\n",
    "\n",
    "    for X, y in train_dataloader_1:\n",
    "        X, y = X.to(device, non_blocking=True), y.to(device, non_blocking=True)\n",
    "        outputs = model_1(X).logits\n",
    "        loss = loss_fn(outputs, y)\n",
    "        optimizer_1.zero_grad()\n",
    "        loss.backward()\n",
    "        optimizer_1.step()\n",
    "\n",
    "        train_loss_epoch += loss.item()\n",
    "        acc = (outputs.argmax(1) == y).sum().item() / len(y)\n",
    "        train_acc_epoch += acc\n",
    "        train_loss.append(loss.item())\n",
    "        train_acc.append(acc)\n",
    "\n",
    "    train_loss_epoch /= len(train_dataloader_1)\n",
    "    train_acc_epoch /= len(train_dataloader_1)\n",
    "    print(f\"Train loss: {train_loss_epoch:.5f} | Train acc: {train_acc_epoch:.2f}\")\n",
    "\n",
    "    model_1.eval()\n",
    "    with torch.inference_mode():\n",
    "        for X, y in test_dataloader_1:\n",
    "            X, y = X.to(device, non_blocking=True), y.to(device, non_blocking=True)\n",
    "            y_pred = model_1(X).logits\n",
    "            loss = loss_fn(y_pred, y)\n",
    "\n",
    "            test_loss_epoch += loss.item()\n",
    "            acc = (y_pred.argmax(1) == y).sum().item() / len(y)\n",
    "            test_acc_epoch += acc\n",
    "            test_loss.append(loss.item())\n",
    "            test_acc.append(acc)\n",
    "\n",
    "    test_loss_epoch /= len(test_dataloader_1)\n",
    "    test_acc_epoch /= len(test_dataloader_1)\n",
    "    print(f\"Test loss: {test_loss_epoch:.5f} | Test acc: {test_acc_epoch:.2f}\")\n",
    "\n",
    "plot_loss_curves({\"train_loss\": train_loss, \"train_acc\": train_acc, \"test_loss\": test_loss, \"test_acc\": test_acc})\n",
    "model_1.save_pretrained(\"model\")"
   ]
  }
 ],
 "metadata": {
  "kernelspec": {
   "display_name": "Python 3",
   "language": "python",
   "name": "python3"
  },
  "language_info": {
   "codemirror_mode": {
    "name": "ipython",
    "version": 3
   },
   "file_extension": ".py",
   "mimetype": "text/x-python",
   "name": "python",
   "nbconvert_exporter": "python",
   "pygments_lexer": "ipython3",
   "version": "3.12.7"
  }
 },
 "nbformat": 4,
 "nbformat_minor": 2
}
